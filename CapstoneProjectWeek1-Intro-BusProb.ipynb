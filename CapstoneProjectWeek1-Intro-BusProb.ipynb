{
 "cells": [
  {
   "cell_type": "markdown",
   "metadata": {},
   "source": [
    "# Capstone Project - The Battle of Neighborhoods (Week 1)\n",
    "\n",
    "## Introduction/Business Problem\n",
    " \n",
    "Toronto, being the largest city in Canada, is composed of 10 boroughs.  Finding the best neighbourhood to live for one is subjective.  What one may think of the greatest neighbourhood, another may not agree. The decision may be different from one to another depending on factors and priorities, such as how important is the safety and amenities.   It may be quite daunting for the new comers to find and decide on a suitable neighborhood to settle down.   We are targeting the new comers who are interested in the an area that meets the following criteria:\n",
    " \n",
    "- A neighbourhood with the lowest crime rate.\n",
    "- A neighbourhood with some recreational parks.\n",
    "- A neighbourhood with restaurants, bars, and etc.\n",
    "- A neighbourhood with above average population.\n",
    " \n",
    "With the identified criteria, the objective is to help the them to learn about some of the best neighborhoods in Toronto and make recommendation to them what neighborhoods will be the choices to consider.  The information collected will assist the target audience in choosing the suitable area to live in Toronto by providing data about the crime rate of each neighborhood and nearby amenities such as established venues."
   ]
  }
 ],
 "metadata": {
  "kernelspec": {
   "display_name": "Python 3",
   "language": "python",
   "name": "python3"
  },
  "language_info": {
   "codemirror_mode": {
    "name": "ipython",
    "version": 3
   },
   "file_extension": ".py",
   "mimetype": "text/x-python",
   "name": "python",
   "nbconvert_exporter": "python",
   "pygments_lexer": "ipython3",
   "version": "3.7.6"
  }
 },
 "nbformat": 4,
 "nbformat_minor": 4
}
