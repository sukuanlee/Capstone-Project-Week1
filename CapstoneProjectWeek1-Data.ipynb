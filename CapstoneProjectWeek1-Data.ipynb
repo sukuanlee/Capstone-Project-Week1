{
 "cells": [
  {
   "cell_type": "markdown",
   "metadata": {},
   "source": [
    "## Data\n",
    "In order to solve the problem, data will be obtained from the following sources:\n",
    "\n",
    "**1. Toronto Neighbourhoods with Postal Codes Starting with M via Wickipedia**\n",
    "_Source_: https://en.wikipedia.org/wiki/List_of_postal_codes_of_Canada:_M\n",
    "-Description_: We will scrape the postal code table from Wickipedia using BeautifulSoup library, merge the neighborhoods in the same postal code and borough, and get the coordiantes of Toronto neighborhoods using geocoder class.\n",
    "\n",
    "**2. Toronto WellBeing – Safety vi City of Toronto's Open Data Portal**\n",
    "_Source_: https://open.toronto.ca/dataset/wellbeing-toronto-safety/     \n",
    "_Description_: We will access the Neighborhood Crime dataset via CKAN API and parsing the dataset to form a new dataframe that contains both the neighborhoods, the coordinates and the crime data.\n",
    "\n",
    "**3. Toronto Neighborhoods Venue Data**\n",
    "_Source_: FourSquare API\n",
    "_Description_: We will retrieve the venues in each neighborhood and filter to include on the parks, restaurants and bars.\n",
    "\n",
    "**4. Toronto Neighborhood Profiles via City of Toronto's Open Data Portal**\n",
    "_Source_: https://open.toronto.ca/dataset/neighbourhood-profiles/\n",
    "_Description_: We will get the population from the Toronto Neighborhood proilfes in CSV format and capture the population for each neighborhood based on the census of population done in 2016."
   ]
  }
 ],
 "metadata": {
  "kernelspec": {
   "display_name": "Python 3",
   "language": "python",
   "name": "python3"
  }
 },
 "nbformat": 4,
 "nbformat_minor": 4
}
